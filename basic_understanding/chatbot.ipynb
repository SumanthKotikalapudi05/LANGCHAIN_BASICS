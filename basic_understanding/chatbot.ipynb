{
 "cells": [
  {
   "cell_type": "code",
   "execution_count": 1,
   "id": "81dcb7bb",
   "metadata": {},
   "outputs": [],
   "source": [
    "from constants import LANGSMITH_API_KEY\n",
    "import os\n",
    "os.environ[\"LANGSMITH_TRACING\"]='true'\n",
    "os.environ[\"LANGSMITH_API_KEY\"]= LANGSMITH_API_KEY\n"
   ]
  },
  {
   "cell_type": "code",
   "execution_count": null,
   "id": "1a3ebe71",
   "metadata": {},
   "outputs": [
    {
     "name": "stderr",
     "output_type": "stream",
     "text": [
      "Unexpected argument 'GOOGLE_API_KEY' provided to ChatGoogleGenerativeAI.\n",
      "c:\\Users\\sumanth\\AppData\\Local\\Programs\\Python\\Python312\\Lib\\site-packages\\langchain\\chat_models\\base.py:322: UserWarning: WARNING! GOOGLE_API_KEY is not default parameter.\n",
      "                GOOGLE_API_KEY was transferred to model_kwargs.\n",
      "                Please confirm that GOOGLE_API_KEY is what you intended.\n",
      "  return _init_chat_model_helper(\n"
     ]
    },
    {
     "data": {
      "text/plain": [
       "AIMessage(content='Your name is sumanthhh, as you told me.', additional_kwargs={}, response_metadata={'prompt_feedback': {'block_reason': 0, 'safety_ratings': []}, 'finish_reason': 'STOP', 'model_name': 'gemini-2.0-flash', 'safety_ratings': []}, id='run--cebfbf33-697c-4b96-aac9-6b6796972eba-0', usage_metadata={'input_tokens': 23, 'output_tokens': 13, 'total_tokens': 36, 'input_token_details': {'cache_read': 0}})"
      ]
     },
     "execution_count": 3,
     "metadata": {},
     "output_type": "execute_result"
    }
   ],
   "source": [
    "from constants import GEMINI_API_KEY\n",
    "import os\n",
    "if not os.environ.get(\"GOOGLE_API_KEY\"):\n",
    "    os.environ[\"GOOGLE_API_KEY\"]= GEMINI_API_KEY\n",
    "\n",
    "from langchain.chat_models import init_chat_model\n",
    "model=init_chat_model(\n",
    "    \"gemini-2.0-flash\",\n",
    "    model_provider='google_genai',\n",
    "    GOOGLE_API_KEY='GEMINI_API_KEY')\n",
    "\n",
    "#ChatModels are instances of LangChain \"Runnables\", \n",
    "# which means they expose a standard interface for interacting \n",
    "# with them. To just simply call the model, \n",
    "# we can pass in a list of messages to the .invoke method.\n",
    "\n",
    "from langchain_core.messages import HumanMessage\n",
    "model.invoke([HumanMessage(content=\"heyy!! im sumanthh!\")])\n",
    "\n",
    "#We can see that it doesn't take the previous conversation turn \n",
    "# into context, and cannot answer the question. \n",
    "# This makes for a terrible chatbot experience!\n",
    "#To get around this, we need to pass the entire conversation \n",
    "# history into the model.\n",
    "\n",
    "from langchain_core.messages import AIMessage\n",
    "model.invoke([\n",
    "    HumanMessage(content='heyy!! im sumanthhh'),\n",
    "    AIMessage(content='hello sumanthhh!!,how can i assist you today?!'),\n",
    "    HumanMessage(content='whats my name?'),\n",
    "])\n",
    "\n",
    "#\n"
   ]
  },
  {
   "cell_type": "markdown",
   "id": "ce16bdd3",
   "metadata": {},
   "source": [
    "LangGraph has a built-in persistence layer, implemented through \n",
    "checkpointers. When you compile graph with a checkpointer, \n",
    "the checkpointer saves a checkpoint of the graph state at  every super-step. Those checkpoints are saved to a thread, \n",
    "which can be accessed after graph execution. \n",
    "Because threads allow access to graph's state after execution,\n",
    "several powerful capabilities including human-in-the-loop, \n",
    "memory, time travel, and fault-tolerance are all possible. \n",
    "\n",
    "# Short-term memory (thread-level persistence)enables agents to track multi-turn conversations.\n",
    "# long-term memory (cross-thread persistence) to store user-specific or application-specific data across conversations. This is useful for applications like chatbots, where you want to remember user preferences or other information."
   ]
  },
  {
   "cell_type": "code",
   "execution_count": 4,
   "id": "aa4c82bc",
   "metadata": {},
   "outputs": [],
   "source": [
    "from langgraph.checkpoint.memory import MemorySaver\n",
    "from langgraph.graph import START, MessagesState, StateGraph\n",
    "\n",
    "#new graph\n",
    "workflow=StateGraph(state_schema=MessagesState)\n",
    "#function that calls the model\n",
    "def call_model(state:MessagesState):\n",
    "    response=model.invoke(state['messages'])\n",
    "    return {'messages': response}\n",
    "\n",
    "#defining the node in graph\n",
    "workflow.add_edge(START,'model')\n",
    "workflow.add_node('model',call_model)\n",
    "#adding memory\n",
    "memory=MemorySaver()\n",
    "app=workflow.compile(checkpointer=memory)"
   ]
  },
  {
   "cell_type": "code",
   "execution_count": 5,
   "id": "75c83efd",
   "metadata": {},
   "outputs": [
    {
     "name": "stdout",
     "output_type": "stream",
     "text": [
      "==================================\u001b[1m Ai Message \u001b[0m==================================\n",
      "\n",
      "Hey there! What's up? 😊\n"
     ]
    }
   ],
   "source": [
    "## We now need to create a config that we pass into the \n",
    "# runnable every time. This config contains information \n",
    "# that is not part of the input directly, but is still \n",
    "# useful. In this case, we want to include a thread_id. \n",
    "# This should look like:\n",
    "config={'configurable':{'thread_id':\"asdf1234\"}}\n",
    "# This enables us to support multiple conversation threads with \n",
    "# a single application, a common requirement when your \n",
    "# application has multiple users.\n",
    "\n",
    "#invoking the application\n",
    "query=\"heyy!!\"\n",
    "input_messages=[HumanMessage(query)]\n",
    "output=app.invoke({\"messages\":input_messages},config)\n",
    "output['messages'][-1].pretty_print()"
   ]
  },
  {
   "cell_type": "markdown",
   "id": "362ec687",
   "metadata": {},
   "source": [
    "### NOTE:\n",
    "# If we change the config to reference a different thread id the it will start a whole new convo so previous stuff it wont remember \n",
    "# So we need to make sure we are referencing the same thread id for the same conversation\n"
   ]
  },
  {
   "cell_type": "markdown",
   "id": "05c5dec5",
   "metadata": {},
   "source": [
    "# Prompt templates\n",
    "Prompt Templates help to turn raw user information into a format that the LLM can work with. In this case, the raw user input is just a message, which we are passing to the LLM"
   ]
  },
  {
   "cell_type": "code",
   "execution_count": 6,
   "id": "51f635fc",
   "metadata": {},
   "outputs": [],
   "source": [
    "from langchain_core.prompts import ChatPromptTemplate,MessagesPlaceholder\n",
    "\n",
    "prompt_template=ChatPromptTemplate.from_messages(\n",
    "    [\n",
    "        (\n",
    "            \"system\",\n",
    "            \"you talk like a doctor and answer all questions to the best of ability.\",\n",
    "\n",
    "        ),\n",
    "        MessagesPlaceholder(variable_name=\"messages\"),\n",
    "    ]\n",
    ")"
   ]
  },
  {
   "cell_type": "markdown",
   "id": "06f27437",
   "metadata": {},
   "source": [
    "We can now update our application to incorporate this template:"
   ]
  },
  {
   "cell_type": "code",
   "execution_count": 9,
   "id": "dd6fe444",
   "metadata": {},
   "outputs": [
    {
     "name": "stdout",
     "output_type": "stream",
     "text": [
      "==================================\u001b[1m Ai Message \u001b[0m==================================\n",
      "\n",
      "Hello there! How can I assist you today? Please tell me what's on your mind, and I'll do my best to provide you with some helpful information and guidance. Remember, this is not a substitute for a proper medical examination, but I can offer some general advice.\n"
     ]
    }
   ],
   "source": [
    "#new graph\n",
    "workflow=StateGraph(state_schema=MessagesState)\n",
    "#function that calls the model\n",
    "def call_model(state:MessagesState):\n",
    "    prompt=prompt_template.invoke(state)\n",
    "    response=model.invoke(prompt)\n",
    "    return {'messages': response}\n",
    "\n",
    "#defining the node in graph\n",
    "workflow.add_edge(START,'model')\n",
    "workflow.add_node('model',call_model)\n",
    "#adding memory\n",
    "memory=MemorySaver()\n",
    "app=workflow.compile(checkpointer=memory)\n",
    "\n",
    "# We now need to create a config that we pass into the \n",
    "# runnable every time. This config contains information \n",
    "# that is not part of the input directly, but is still \n",
    "# useful. In this case, we want to include a thread_id. \n",
    "# This should look like:\n",
    "config={'configurable':{'thread_id':\"asgf1234\"}}\n",
    "# This enables us to support multiple conversation threads with \n",
    "# a single application, a common requirement when your \n",
    "# application has multiple users.\n",
    "\n",
    "#invoking the application\n",
    "query=\"heyy!!\"\n",
    "input_messages=[HumanMessage(query)]\n",
    "output=app.invoke({\"messages\":input_messages},config)\n",
    "output['messages'][-1].pretty_print()"
   ]
  },
  {
   "cell_type": "markdown",
   "id": "226d8460",
   "metadata": {},
   "source": [
    "Managing Conversation History\n",
    "One important concept to understand when building chatbots is how to manage conversation history. If left unmanaged, the list of messages will grow unbounded and potentially overflow the context window of the LLM. Therefore, it is important to add a step that limits the size of the messages you are passing in.\n",
    "\n",
    "Importantly, you will want to do this BEFORE the prompt template but AFTER you load previous messages from Message History.\n",
    "\n",
    "# We can do this by adding a simple step in front of the prompt that modifies the ***messages*** key appropriately, and then wrap that new chain in the Message History class."
   ]
  },
  {
   "cell_type": "code",
   "execution_count": 11,
   "id": "b6bff8d4",
   "metadata": {},
   "outputs": [
    {
     "data": {
      "text/plain": [
       "[SystemMessage(content='you are a worlds best dearmatologist', additional_kwargs={}, response_metadata={}),\n",
       " HumanMessage(content='heyyy!!', additional_kwargs={}, response_metadata={}),\n",
       " AIMessage(content='hello', additional_kwargs={}, response_metadata={}),\n",
       " HumanMessage(content='i have acne on face', additional_kwargs={}, response_metadata={}),\n",
       " AIMessage(content='you can use salsylic acid(mild)for acne reduction', additional_kwargs={}, response_metadata={})]"
      ]
     },
     "execution_count": 11,
     "metadata": {},
     "output_type": "execute_result"
    }
   ],
   "source": [
    "from langchain_core.messages import SystemMessage, trim_messages\n",
    "\n",
    "trim=trim_messages(\n",
    "    max_tokens=83,\n",
    "    strategy=\"last\",\n",
    "    token_counter=model,\n",
    "    include_system=True,\n",
    "    allow_partial=False,\n",
    "    start_on=\"human\",\n",
    ")\n",
    "\n",
    "messages=[\n",
    "    SystemMessage(content=\"you are a worlds best dearmatologist\"),\n",
    "    HumanMessage(content=\"heyyy!!\"),\n",
    "    AIMessage(\"hello\"),\n",
    "    HumanMessage(\"i have acne on face\"),\n",
    "    AIMessage(\"you can use salsylic acid(mild)for acne reduction\"),\n",
    "]\n",
    "\n",
    "trim.invoke(messages)"
   ]
  },
  {
   "cell_type": "code",
   "execution_count": 12,
   "id": "ffa48e83",
   "metadata": {},
   "outputs": [
    {
     "name": "stdout",
     "output_type": "stream",
     "text": [
      "==================================\u001b[1m Ai Message \u001b[0m==================================\n",
      "\n",
      "Hello there. How can I assist you today? Is there something specific you'd like to discuss regarding your health or well-being? I'm here to listen and offer any information or guidance I can.\n"
     ]
    }
   ],
   "source": [
    "#new graph\n",
    "workflow=StateGraph(state_schema=MessagesState)\n",
    "#function that calls the model\n",
    "def call_model(state:MessagesState):\n",
    "    trimmed_messages=trim.invoke(state[\"messages\"])\n",
    "    prompt=prompt_template.invoke(state)\n",
    "    response=model.invoke(prompt)\n",
    "    return {'messages': response}\n",
    "\n",
    "#defining the node in graph\n",
    "workflow.add_edge(START,'model')\n",
    "workflow.add_node('model',call_model)\n",
    "#adding memory\n",
    "memory=MemorySaver()\n",
    "app=workflow.compile(checkpointer=memory)\n",
    "\n",
    "# We now need to create a config that we pass into the \n",
    "# runnable every time. This config contains information \n",
    "# that is not part of the input directly, but is still \n",
    "# useful. In this case, we want to include a thread_id. \n",
    "# This should look like:\n",
    "config={'configurable':{'thread_id':\"asgf1234\"}}\n",
    "# This enables us to support multiple conversation threads with \n",
    "# a single application, a common requirement when your \n",
    "# application has multiple users.\n",
    "\n",
    "#invoking the application\n",
    "query=\"heyy!!\"\n",
    "input_messages=[HumanMessage(query)]\n",
    "output=app.invoke({\"messages\":input_messages},config)\n",
    "output['messages'][-1].pretty_print()"
   ]
  },
  {
   "cell_type": "markdown",
   "id": "29f72c9d",
   "metadata": {},
   "source": [
    "since we have trimmed the messages so the past messages it will not remeber but it will remember the last few messages"
   ]
  },
  {
   "cell_type": "markdown",
   "id": "e5e260fd",
   "metadata": {},
   "source": [
    "## Streaming\n",
    "Now we've got a functioning chatbot. However, one really important UX consideration for chatbot applications is streaming. LLMs can sometimes take a while to respond, and so in order to improve the user experience one thing that most applications do is stream back each token as it is generated. This allows the user to see progress."
   ]
  }
 ],
 "metadata": {
  "kernelspec": {
   "display_name": "Python 3",
   "language": "python",
   "name": "python3"
  },
  "language_info": {
   "codemirror_mode": {
    "name": "ipython",
    "version": 3
   },
   "file_extension": ".py",
   "mimetype": "text/x-python",
   "name": "python",
   "nbconvert_exporter": "python",
   "pygments_lexer": "ipython3",
   "version": "3.12.2"
  }
 },
 "nbformat": 4,
 "nbformat_minor": 5
}
